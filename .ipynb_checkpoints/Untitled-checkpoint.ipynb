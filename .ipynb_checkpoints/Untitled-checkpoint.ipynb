{
 "cells": [
  {
   "cell_type": "code",
   "execution_count": 3,
   "metadata": {},
   "outputs": [
    {
     "ename": "error",
     "evalue": "OpenCV(4.2.0) /Users/travis/build/skvark/opencv-python/opencv/modules/core/src/matrix.cpp:757: error: (-215:Assertion failed) dims <= 2 && step[0] > 0 in function 'locateROI'\n",
     "output_type": "error",
     "traceback": [
      "\u001b[0;31m---------------------------------------------------------------------------\u001b[0m",
      "\u001b[0;31merror\u001b[0m                                     Traceback (most recent call last)",
      "\u001b[0;32m<ipython-input-3-a55c9303a9b7>\u001b[0m in \u001b[0;36m<module>\u001b[0;34m\u001b[0m\n\u001b[1;32m     48\u001b[0m     \u001b[0mimage\u001b[0m \u001b[0;34m=\u001b[0m \u001b[0mcv2\u001b[0m\u001b[0;34m.\u001b[0m\u001b[0mimread\u001b[0m\u001b[0;34m(\u001b[0m\u001b[0mpath\u001b[0m\u001b[0;34m)\u001b[0m\u001b[0;34m\u001b[0m\u001b[0;34m\u001b[0m\u001b[0m\n\u001b[1;32m     49\u001b[0m     \u001b[0;32mfor\u001b[0m \u001b[0mlevel\u001b[0m \u001b[0;32min\u001b[0m \u001b[0mrange\u001b[0m\u001b[0;34m(\u001b[0m\u001b[0;36m10\u001b[0m\u001b[0;34m)\u001b[0m\u001b[0;34m:\u001b[0m\u001b[0;34m\u001b[0m\u001b[0;34m\u001b[0m\u001b[0m\n\u001b[0;32m---> 50\u001b[0;31m         \u001b[0mgenerate_blur_img\u001b[0m\u001b[0;34m(\u001b[0m\u001b[0mlevel\u001b[0m\u001b[0;34m,\u001b[0m \u001b[0mimage\u001b[0m\u001b[0;34m,\u001b[0m \u001b[0midx\u001b[0m\u001b[0;34m)\u001b[0m\u001b[0;34m\u001b[0m\u001b[0;34m\u001b[0m\u001b[0m\n\u001b[0m",
      "\u001b[0;32m<ipython-input-3-a55c9303a9b7>\u001b[0m in \u001b[0;36mgenerate_blur_img\u001b[0;34m(level, image, image_num)\u001b[0m\n\u001b[1;32m     14\u001b[0m     \u001b[0;32mif\u001b[0m \u001b[0mhsize\u001b[0m \u001b[0;34m%\u001b[0m \u001b[0;36m2\u001b[0m \u001b[0;34m==\u001b[0m \u001b[0;36m0\u001b[0m\u001b[0;34m:\u001b[0m\u001b[0;34m\u001b[0m\u001b[0;34m\u001b[0m\u001b[0m\n\u001b[1;32m     15\u001b[0m         \u001b[0mhsize\u001b[0m \u001b[0;34m+=\u001b[0m \u001b[0;36m1\u001b[0m\u001b[0;34m\u001b[0m\u001b[0;34m\u001b[0m\u001b[0m\n\u001b[0;32m---> 16\u001b[0;31m     \u001b[0mdistorted_img\u001b[0m \u001b[0;34m=\u001b[0m \u001b[0mcv2\u001b[0m\u001b[0;34m.\u001b[0m\u001b[0mGaussianBlur\u001b[0m\u001b[0;34m(\u001b[0m\u001b[0mimage\u001b[0m\u001b[0;34m,\u001b[0m\u001b[0;34m(\u001b[0m\u001b[0mhsize\u001b[0m\u001b[0;34m,\u001b[0m\u001b[0mhsize\u001b[0m\u001b[0;34m)\u001b[0m\u001b[0;34m,\u001b[0m\u001b[0mcv2\u001b[0m\u001b[0;34m.\u001b[0m\u001b[0mBORDER_DEFAULT\u001b[0m\u001b[0;34m)\u001b[0m\u001b[0;34m\u001b[0m\u001b[0;34m\u001b[0m\u001b[0m\n\u001b[0m\u001b[1;32m     17\u001b[0m     \u001b[0mim\u001b[0m \u001b[0;34m=\u001b[0m \u001b[0mPIL\u001b[0m\u001b[0;34m.\u001b[0m\u001b[0mImage\u001b[0m\u001b[0;34m.\u001b[0m\u001b[0mfromarray\u001b[0m\u001b[0;34m(\u001b[0m\u001b[0mdistorted_img\u001b[0m\u001b[0;34m)\u001b[0m\u001b[0;34m\u001b[0m\u001b[0;34m\u001b[0m\u001b[0m\n\u001b[1;32m     18\u001b[0m     \u001b[0;32mif\u001b[0m \u001b[0mimage_num\u001b[0m \u001b[0;34m<\u001b[0m \u001b[0;36m10\u001b[0m\u001b[0;34m:\u001b[0m\u001b[0;34m\u001b[0m\u001b[0;34m\u001b[0m\u001b[0m\n",
      "\u001b[0;31merror\u001b[0m: OpenCV(4.2.0) /Users/travis/build/skvark/opencv-python/opencv/modules/core/src/matrix.cpp:757: error: (-215:Assertion failed) dims <= 2 && step[0] > 0 in function 'locateROI'\n"
     ]
    }
   ],
   "source": [
    "import skimage.io\n",
    "import skimage.filters\n",
    "import sys\n",
    "import cv2\n",
    "import numpy as np\n",
    "from PIL import Image\n",
    "import PIL\n",
    "\n",
    "gblur_level = np.linspace(9, 50, num=10)\n",
    "def generate_blur_img(level, image, image_num):\n",
    "    hsize = gblur_level[level]\n",
    "#         distorted_img = cv2.GaussianBlur(image,(hsize,hsize),cv2.BORDER_DEFAULT)\n",
    "    hsize = int(hsize)\n",
    "    if hsize % 2 == 0:\n",
    "        hsize += 1\n",
    "    distorted_img = cv2.GaussianBlur(image,(hsize,hsize),cv2.BORDER_DEFAULT)\n",
    "    im = PIL.Image.fromarray(distorted_img)\n",
    "    if image_num < 10:\n",
    "        image_num = f'0{image_num}'\n",
    "    else:\n",
    "        image_num = f'{image_num}'\n",
    "    if level < 10:\n",
    "        level = f'0{level}'\n",
    "    else:\n",
    "        level = f'{level}'\n",
    "    \n",
    "    tmp_path = f'/Users/metis_sotangkur/Desktop/Senior/Capstone/distorted_img/{image_num}_{level}.jpg'\n",
    "    im.save(tmp_path,\"JPEG\")\n",
    "\n",
    "img_pth_list = [\n",
    "    '/Users/metis_sotangkur/Desktop/Senior/Capstone/Example_images/14_Actinic_Keratosis/case02/03.JPG',\n",
    "    '/Users/metis_sotangkur/Desktop/Senior/Capstone/Example_images/14_Actinic_Keratosis/case03/03.JPG',\n",
    "    '/Users/metis_sotangkur/Desktop/Senior/Capstone/Example_images/14_Actinic_Keratosis/case03/07.JPG',\n",
    "    '/Users/metis_sotangkur/Desktop/Senior/Capstone/Example_images/14_Actinic_Keratosis/case04/03.JPG',\n",
    "    '/Users/metis_sotangkur/Desktop/Senior/Capstone/Example_images/14_Actinic_Keratosis/case05/04.JPG',\n",
    "    '/Users/metis_sotangkur/Desktop/Senior/Capstone/Example_images/14_Actinic_Keratosis/case06/03.JPG',\n",
    "    '/Users/metis_sotangkur/Desktop/Senior/Capstone/Example_images/01_Melanoma/19.JPG',\n",
    "    '/Users/metis_sotangkur/Desktop/Senior/Capstone/Example_images/01_Melanoma/20.JPG',\n",
    "    '/Users/metis_sotangkur/Desktop/Senior/Capstone/Example_images/01_Melanoma/24.JPG',\n",
    "    '/Users/metis_sotangkur/Desktop/Senior/Capstone/Example_images/01_Melanoma/23.JPG',\n",
    "    '/Users/metis_sotangkur/Desktop/Senior/Capstone/Example_images/01_Melanoma/26.JPG',\n",
    "    '/Users/metis_sotangkur/Desktop/Senior/Capstone/Example_images/01_Melanoma/27.JPG',\n",
    "    '/Users/metis_sotangkur/Desktop/Senior/Capstone/Example_images/02_basal_cell_carcinoma/Basal_cell_epithelioma_Basal_cell\\ carcinoma_of_skin/case02/03.JPG'\n",
    "]\n",
    "\n",
    "\n",
    "for idx, path in enumerate(img_pth_list):\n",
    "    image = Image.open(path)\n",
    "    for level in range(10):\n",
    "        generate_blur_img(level, image, idx)"
   ]
  },
  {
   "cell_type": "code",
   "execution_count": null,
   "metadata": {},
   "outputs": [],
   "source": []
  }
 ],
 "metadata": {
  "kernelspec": {
   "display_name": "Python 3",
   "language": "python",
   "name": "python3"
  },
  "language_info": {
   "codemirror_mode": {
    "name": "ipython",
    "version": 3
   },
   "file_extension": ".py",
   "mimetype": "text/x-python",
   "name": "python",
   "nbconvert_exporter": "python",
   "pygments_lexer": "ipython3",
   "version": "3.7.6"
  }
 },
 "nbformat": 4,
 "nbformat_minor": 4
}
